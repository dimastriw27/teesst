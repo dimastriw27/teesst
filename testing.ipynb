{
 "cells": [
  {
   "cell_type": "code",
   "execution_count": 7,
   "metadata": {},
   "outputs": [],
   "source": [
    "# Mengimpor pustaka yang diperlukan\n",
    "import tensorflow as tf\n",
    "import pandas as pd\n",
    "import numpy as np\n",
    "from sklearn.model_selection import train_test_split\n",
    "from sklearn.preprocessing import StandardScaler, LabelEncoder\n",
    "\n",
    "file_path = 'C:/Users/Dimas Tri Wicaksono/MSIB2024-2/myenvirontment/Week 11/winequality-white.csv'\n",
    "data = pd.read_csv(file_path, delimiter=';')\n",
    "\n"
   ]
  },
  {
   "cell_type": "code",
   "execution_count": 8,
   "metadata": {},
   "outputs": [],
   "source": [
    "\n",
    "# Membagi dataset menjadi fitur (X) dan label (y)\n",
    "X = data.drop('quality', axis=1)  # Fitur\n",
    "y = data['quality']  # Target (kualitas anggur)\n",
    "\n",
    "# Mengencode label (karena kualitas anggur adalah nilai integer, tidak perlu diubah ke one-hot encoding)\n",
    "label_encoder = LabelEncoder()\n",
    "y_encoded = label_encoder.fit_transform(y)\n",
    "\n",
    "# Membagi dataset menjadi data training dan data uji\n",
    "X_train, X_test, y_train, y_test = train_test_split(X, y_encoded, test_size=0.2, random_state=42, stratify=y_encoded)\n",
    "\n",
    "# Standarisasi fitur (normalisasi data)\n",
    "scaler = StandardScaler()\n",
    "X_train = scaler.fit_transform(X_train)\n",
    "X_test = scaler.transform(X_test)\n",
    "\n"
   ]
  },
  {
   "cell_type": "code",
   "execution_count": 9,
   "metadata": {},
   "outputs": [
    {
     "name": "stdout",
     "output_type": "stream",
     "text": [
      "Epoch 1/100\n"
     ]
    },
    {
     "name": "stderr",
     "output_type": "stream",
     "text": [
      "c:\\Users\\Dimas Tri Wicaksono\\MSIB2024-2\\myenvirontment\\Lib\\site-packages\\keras\\src\\layers\\core\\dense.py:87: UserWarning: Do not pass an `input_shape`/`input_dim` argument to a layer. When using Sequential models, prefer using an `Input(shape)` object as the first layer in the model instead.\n",
      "  super().__init__(activity_regularizer=activity_regularizer, **kwargs)\n"
     ]
    },
    {
     "name": "stdout",
     "output_type": "stream",
     "text": [
      "\u001b[1m245/245\u001b[0m \u001b[32m━━━━━━━━━━━━━━━━━━━━\u001b[0m\u001b[37m\u001b[0m \u001b[1m1s\u001b[0m 2ms/step - accuracy: 0.4272 - loss: 1.4695 - val_accuracy: 0.5296 - val_loss: 1.1681\n",
      "Epoch 2/100\n",
      "\u001b[1m245/245\u001b[0m \u001b[32m━━━━━━━━━━━━━━━━━━━━\u001b[0m\u001b[37m\u001b[0m \u001b[1m0s\u001b[0m 1ms/step - accuracy: 0.5082 - loss: 1.1646 - val_accuracy: 0.5347 - val_loss: 1.1137\n",
      "Epoch 3/100\n",
      "\u001b[1m245/245\u001b[0m \u001b[32m━━━━━━━━━━━━━━━━━━━━\u001b[0m\u001b[37m\u001b[0m \u001b[1m0s\u001b[0m 1ms/step - accuracy: 0.5210 - loss: 1.1132 - val_accuracy: 0.5143 - val_loss: 1.1120\n",
      "Epoch 4/100\n",
      "\u001b[1m245/245\u001b[0m \u001b[32m━━━━━━━━━━━━━━━━━━━━\u001b[0m\u001b[37m\u001b[0m \u001b[1m0s\u001b[0m 1ms/step - accuracy: 0.5252 - loss: 1.0821 - val_accuracy: 0.5347 - val_loss: 1.0908\n",
      "Epoch 5/100\n",
      "\u001b[1m245/245\u001b[0m \u001b[32m━━━━━━━━━━━━━━━━━━━━\u001b[0m\u001b[37m\u001b[0m \u001b[1m0s\u001b[0m 1ms/step - accuracy: 0.5419 - loss: 1.0866 - val_accuracy: 0.5480 - val_loss: 1.0794\n",
      "Epoch 6/100\n",
      "\u001b[1m245/245\u001b[0m \u001b[32m━━━━━━━━━━━━━━━━━━━━\u001b[0m\u001b[37m\u001b[0m \u001b[1m0s\u001b[0m 1ms/step - accuracy: 0.5433 - loss: 1.0676 - val_accuracy: 0.5602 - val_loss: 1.0731\n",
      "Epoch 7/100\n",
      "\u001b[1m245/245\u001b[0m \u001b[32m━━━━━━━━━━━━━━━━━━━━\u001b[0m\u001b[37m\u001b[0m \u001b[1m0s\u001b[0m 1ms/step - accuracy: 0.5410 - loss: 1.0802 - val_accuracy: 0.5469 - val_loss: 1.0687\n",
      "Epoch 8/100\n",
      "\u001b[1m245/245\u001b[0m \u001b[32m━━━━━━━━━━━━━━━━━━━━\u001b[0m\u001b[37m\u001b[0m \u001b[1m0s\u001b[0m 1ms/step - accuracy: 0.5560 - loss: 1.0333 - val_accuracy: 0.5541 - val_loss: 1.0621\n",
      "Epoch 9/100\n",
      "\u001b[1m245/245\u001b[0m \u001b[32m━━━━━━━━━━━━━━━━━━━━\u001b[0m\u001b[37m\u001b[0m \u001b[1m0s\u001b[0m 1ms/step - accuracy: 0.5487 - loss: 1.0443 - val_accuracy: 0.5582 - val_loss: 1.0527\n",
      "Epoch 10/100\n",
      "\u001b[1m245/245\u001b[0m \u001b[32m━━━━━━━━━━━━━━━━━━━━\u001b[0m\u001b[37m\u001b[0m \u001b[1m0s\u001b[0m 1ms/step - accuracy: 0.5529 - loss: 1.0228 - val_accuracy: 0.5633 - val_loss: 1.0520\n",
      "Epoch 11/100\n",
      "\u001b[1m245/245\u001b[0m \u001b[32m━━━━━━━━━━━━━━━━━━━━\u001b[0m\u001b[37m\u001b[0m \u001b[1m0s\u001b[0m 1ms/step - accuracy: 0.5646 - loss: 1.0247 - val_accuracy: 0.5439 - val_loss: 1.0482\n",
      "Epoch 12/100\n",
      "\u001b[1m245/245\u001b[0m \u001b[32m━━━━━━━━━━━━━━━━━━━━\u001b[0m\u001b[37m\u001b[0m \u001b[1m0s\u001b[0m 1ms/step - accuracy: 0.5618 - loss: 1.0040 - val_accuracy: 0.5500 - val_loss: 1.0418\n",
      "Epoch 13/100\n",
      "\u001b[1m245/245\u001b[0m \u001b[32m━━━━━━━━━━━━━━━━━━━━\u001b[0m\u001b[37m\u001b[0m \u001b[1m0s\u001b[0m 1ms/step - accuracy: 0.5520 - loss: 1.0136 - val_accuracy: 0.5592 - val_loss: 1.0354\n",
      "Epoch 14/100\n",
      "\u001b[1m245/245\u001b[0m \u001b[32m━━━━━━━━━━━━━━━━━━━━\u001b[0m\u001b[37m\u001b[0m \u001b[1m0s\u001b[0m 1ms/step - accuracy: 0.5772 - loss: 0.9997 - val_accuracy: 0.5592 - val_loss: 1.0349\n",
      "Epoch 15/100\n",
      "\u001b[1m245/245\u001b[0m \u001b[32m━━━━━━━━━━━━━━━━━━━━\u001b[0m\u001b[37m\u001b[0m \u001b[1m0s\u001b[0m 1ms/step - accuracy: 0.5623 - loss: 1.0267 - val_accuracy: 0.5622 - val_loss: 1.0305\n",
      "Epoch 16/100\n",
      "\u001b[1m245/245\u001b[0m \u001b[32m━━━━━━━━━━━━━━━━━━━━\u001b[0m\u001b[37m\u001b[0m \u001b[1m0s\u001b[0m 1ms/step - accuracy: 0.5692 - loss: 0.9897 - val_accuracy: 0.5704 - val_loss: 1.0288\n",
      "Epoch 17/100\n",
      "\u001b[1m245/245\u001b[0m \u001b[32m━━━━━━━━━━━━━━━━━━━━\u001b[0m\u001b[37m\u001b[0m \u001b[1m0s\u001b[0m 1ms/step - accuracy: 0.5687 - loss: 0.9797 - val_accuracy: 0.5694 - val_loss: 1.0272\n",
      "Epoch 18/100\n",
      "\u001b[1m245/245\u001b[0m \u001b[32m━━━━━━━━━━━━━━━━━━━━\u001b[0m\u001b[37m\u001b[0m \u001b[1m0s\u001b[0m 1ms/step - accuracy: 0.5639 - loss: 1.0000 - val_accuracy: 0.5694 - val_loss: 1.0260\n",
      "Epoch 19/100\n",
      "\u001b[1m245/245\u001b[0m \u001b[32m━━━━━━━━━━━━━━━━━━━━\u001b[0m\u001b[37m\u001b[0m \u001b[1m0s\u001b[0m 1ms/step - accuracy: 0.5655 - loss: 0.9899 - val_accuracy: 0.5592 - val_loss: 1.0297\n",
      "Epoch 20/100\n",
      "\u001b[1m245/245\u001b[0m \u001b[32m━━━━━━━━━━━━━━━━━━━━\u001b[0m\u001b[37m\u001b[0m \u001b[1m0s\u001b[0m 1ms/step - accuracy: 0.5598 - loss: 0.9938 - val_accuracy: 0.5653 - val_loss: 1.0248\n",
      "Epoch 21/100\n",
      "\u001b[1m245/245\u001b[0m \u001b[32m━━━━━━━━━━━━━━━━━━━━\u001b[0m\u001b[37m\u001b[0m \u001b[1m0s\u001b[0m 1ms/step - accuracy: 0.5928 - loss: 0.9659 - val_accuracy: 0.5541 - val_loss: 1.0291\n",
      "Epoch 22/100\n",
      "\u001b[1m245/245\u001b[0m \u001b[32m━━━━━━━━━━━━━━━━━━━━\u001b[0m\u001b[37m\u001b[0m \u001b[1m0s\u001b[0m 1ms/step - accuracy: 0.5670 - loss: 0.9762 - val_accuracy: 0.5602 - val_loss: 1.0340\n",
      "Epoch 23/100\n",
      "\u001b[1m245/245\u001b[0m \u001b[32m━━━━━━━━━━━━━━━━━━━━\u001b[0m\u001b[37m\u001b[0m \u001b[1m0s\u001b[0m 1ms/step - accuracy: 0.5799 - loss: 0.9515 - val_accuracy: 0.5633 - val_loss: 1.0085\n",
      "Epoch 24/100\n",
      "\u001b[1m245/245\u001b[0m \u001b[32m━━━━━━━━━━━━━━━━━━━━\u001b[0m\u001b[37m\u001b[0m \u001b[1m0s\u001b[0m 1ms/step - accuracy: 0.5751 - loss: 0.9610 - val_accuracy: 0.5633 - val_loss: 1.0195\n",
      "Epoch 25/100\n",
      "\u001b[1m245/245\u001b[0m \u001b[32m━━━━━━━━━━━━━━━━━━━━\u001b[0m\u001b[37m\u001b[0m \u001b[1m0s\u001b[0m 1ms/step - accuracy: 0.5699 - loss: 0.9703 - val_accuracy: 0.5622 - val_loss: 1.0203\n",
      "Epoch 26/100\n",
      "\u001b[1m245/245\u001b[0m \u001b[32m━━━━━━━━━━━━━━━━━━━━\u001b[0m\u001b[37m\u001b[0m \u001b[1m0s\u001b[0m 1ms/step - accuracy: 0.5770 - loss: 0.9725 - val_accuracy: 0.5735 - val_loss: 1.0154\n",
      "Epoch 27/100\n",
      "\u001b[1m245/245\u001b[0m \u001b[32m━━━━━━━━━━━━━━━━━━━━\u001b[0m\u001b[37m\u001b[0m \u001b[1m0s\u001b[0m 1ms/step - accuracy: 0.5888 - loss: 0.9537 - val_accuracy: 0.5694 - val_loss: 1.0158\n",
      "Epoch 28/100\n",
      "\u001b[1m245/245\u001b[0m \u001b[32m━━━━━━━━━━━━━━━━━━━━\u001b[0m\u001b[37m\u001b[0m \u001b[1m0s\u001b[0m 1ms/step - accuracy: 0.5702 - loss: 0.9726 - val_accuracy: 0.5663 - val_loss: 1.0180\n",
      "Epoch 29/100\n",
      "\u001b[1m245/245\u001b[0m \u001b[32m━━━━━━━━━━━━━━━━━━━━\u001b[0m\u001b[37m\u001b[0m \u001b[1m0s\u001b[0m 1ms/step - accuracy: 0.5921 - loss: 0.9572 - val_accuracy: 0.5745 - val_loss: 1.0122\n",
      "Epoch 30/100\n",
      "\u001b[1m245/245\u001b[0m \u001b[32m━━━━━━━━━━━━━━━━━━━━\u001b[0m\u001b[37m\u001b[0m \u001b[1m0s\u001b[0m 1ms/step - accuracy: 0.5907 - loss: 0.9543 - val_accuracy: 0.5551 - val_loss: 1.0123\n",
      "Epoch 31/100\n",
      "\u001b[1m245/245\u001b[0m \u001b[32m━━━━━━━━━━━━━━━━━━━━\u001b[0m\u001b[37m\u001b[0m \u001b[1m0s\u001b[0m 1ms/step - accuracy: 0.5957 - loss: 0.9361 - val_accuracy: 0.5602 - val_loss: 1.0177\n",
      "Epoch 32/100\n",
      "\u001b[1m245/245\u001b[0m \u001b[32m━━━━━━━━━━━━━━━━━━━━\u001b[0m\u001b[37m\u001b[0m \u001b[1m0s\u001b[0m 2ms/step - accuracy: 0.5934 - loss: 0.9346 - val_accuracy: 0.5612 - val_loss: 1.0131\n",
      "Epoch 33/100\n",
      "\u001b[1m245/245\u001b[0m \u001b[32m━━━━━━━━━━━━━━━━━━━━\u001b[0m\u001b[37m\u001b[0m \u001b[1m0s\u001b[0m 1ms/step - accuracy: 0.5998 - loss: 0.9141 - val_accuracy: 0.5633 - val_loss: 1.0106\n"
     ]
    },
    {
     "data": {
      "text/plain": [
       "<keras.src.callbacks.history.History at 0x177000fe8d0>"
      ]
     },
     "execution_count": 9,
     "metadata": {},
     "output_type": "execute_result"
    }
   ],
   "source": [
    "# Membangun model Deep Learning untuk klasifikasi multi-kelas\n",
    "model = tf.keras.models.Sequential([\n",
    "    tf.keras.layers.Dense(128, activation='relu', input_shape=(X_train.shape[1],)),  # Input layer\n",
    "    tf.keras.layers.Dropout(0.3),  # Dropout layer untuk mencegah overfitting\n",
    "    tf.keras.layers.Dense(64, activation='relu'),  # Hidden layer 1\n",
    "    tf.keras.layers.Dropout(0.3),  # Dropout layer untuk mencegah overfitting\n",
    "    tf.keras.layers.Dense(32, activation='relu'),  # Hidden layer 2\n",
    "    tf.keras.layers.Dense(7, activation='softmax')  # Output layer untuk 7 kelas (kualitas 0-6)\n",
    "])\n",
    "\n",
    "model.compile(optimizer='adam', \n",
    "              loss='sparse_categorical_crossentropy', \n",
    "              metrics=['accuracy'])\n",
    "\n",
    "# Menggunakan EarlyStopping untuk mencegah overfitting\n",
    "early_stopping = tf.keras.callbacks.EarlyStopping(monitor='val_loss', patience=10, restore_best_weights=True)\n",
    "\n",
    "# Melatih model\n",
    "model.fit(X_train, y_train, epochs=100, batch_size=16, validation_data=(X_test, y_test), callbacks=[early_stopping])\n",
    "\n"
   ]
  },
  {
   "cell_type": "code",
   "execution_count": 10,
   "metadata": {},
   "outputs": [
    {
     "name": "stdout",
     "output_type": "stream",
     "text": [
      "\u001b[1m31/31\u001b[0m \u001b[32m━━━━━━━━━━━━━━━━━━━━\u001b[0m\u001b[37m\u001b[0m \u001b[1m0s\u001b[0m 921us/step - accuracy: 0.5430 - loss: 1.0543\n",
      "Test Accuracy: 0.5633\n"
     ]
    }
   ],
   "source": [
    "# Evaluasi model pada data uji\n",
    "test_loss, test_acc = model.evaluate(X_test, y_test)\n",
    "print(f'Test Accuracy: {test_acc:.4f}')\n",
    "\n",
    "# Prediksi dengan data baru (misal, data baru dengan 11 fitur sesuai format dataset)\n",
    "def predict_wine_quality(new_data):\n",
    "    # Melakukan standarisasi data baru sebelum prediksi\n",
    "    new_data_scaled = scaler.transform([new_data])\n",
    "    prediction = model.predict(new_data_scaled)\n",
    "    predicted_class = np.argmax(prediction)  # Mengambil kelas dengan probabilitas tertinggi\n",
    "    return predicted_class\n",
    "\n"
   ]
  },
  {
   "cell_type": "code",
   "execution_count": 11,
   "metadata": {},
   "outputs": [
    {
     "name": "stdout",
     "output_type": "stream",
     "text": [
      "\u001b[1m1/1\u001b[0m \u001b[32m━━━━━━━━━━━━━━━━━━━━\u001b[0m\u001b[37m\u001b[0m \u001b[1m0s\u001b[0m 64ms/step\n",
      "Prediksi kualitas untuk anggur baru: 2\n"
     ]
    },
    {
     "name": "stderr",
     "output_type": "stream",
     "text": [
      "c:\\Users\\Dimas Tri Wicaksono\\MSIB2024-2\\myenvirontment\\Lib\\site-packages\\sklearn\\base.py:493: UserWarning: X does not have valid feature names, but StandardScaler was fitted with feature names\n",
      "  warnings.warn(\n"
     ]
    }
   ],
   "source": [
    "# Contoh data anggur baru sesuai format dataset Wine Quality (11 fitur)\n",
    "new_wine = np.array([7.0, 0.27, 0.36, 20.7, 0.045, 45.0, 170.0, 1.0010, 3.00, 0.45, 8.8])\n",
    "\n",
    "# Memprediksi kualitas untuk anggur baru\n",
    "predicted_quality = predict_wine_quality(new_wine)\n",
    "print(f\"Prediksi kualitas untuk anggur baru: {predicted_quality}\")\n"
   ]
  }
 ],
 "metadata": {
  "kernelspec": {
   "display_name": "myenvirontment",
   "language": "python",
   "name": "python3"
  },
  "language_info": {
   "codemirror_mode": {
    "name": "ipython",
    "version": 3
   },
   "file_extension": ".py",
   "mimetype": "text/x-python",
   "name": "python",
   "nbconvert_exporter": "python",
   "pygments_lexer": "ipython3",
   "version": "3.11.9"
  }
 },
 "nbformat": 4,
 "nbformat_minor": 2
}
